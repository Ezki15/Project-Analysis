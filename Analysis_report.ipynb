{
 "cells": [
  {
   "attachments": {},
   "cell_type": "markdown",
   "metadata": {},
   "source": [
    "# Analisis Pengguna Berbagi Sepeda Cyclistic \n",
    "\n",
    "Data update : 2021\n",
    "\n",
    "Penulis : Wahyu Ezki Apriadi"
   ]
  },
  {
   "attachments": {},
   "cell_type": "markdown",
   "metadata": {},
   "source": [
    "### Latar belakang\n",
    "\n",
    "Perusahaan Cyclistic **merupakan** perusahaan yang mempunyai bisnis dalam program **berbagi sepeda** yang menampilkan lebih dari 5.800 sepeda dan lebih dari 600 stasiun di seluruh **Chicago**. Sepeda dapat diakses dari satu stasiun dan dikembalikan ke stasiun lainnya kapan pun di dalam sistem. \n",
    "Sampai saat ini, **strategi pemasaran** Cyclistic mengandalkan upaya untuk membangun kesadaran umum dan menarik segmen konsumen yang luas. Salah satu pendekatan yang membantu mewujudkan hal ini adalah fleksibilitas harga: tiket sekali jalan, tiket sehari penuh, dan keanggotaan tahunan. Pelanggan yang membeli tiket sekali jalan atau tiket sehari penuh disebut sebagai **pengendara kasual**. Pelanggan yang membeli keanggotaan tahunan adalah **anggota Cyclistic**.\n",
    "\n",
    "Analis keuangan Cyclistic telah menyimpulkan bahwa anggota tahunan jauh **lebih menguntungkan** dibandingkan pengendara biasa. Meskipun fleksibilitas harga membantu Cyclistic menarik lebih banyak pelanggan, dipercaya bahwa **memaksimalkan jumlah anggota tahunan** akan menjadi kunci pertumbuhan di masa depan. Daripada membuat kampanye pemasaran yang menargetkan pelanggan baru, mereka percaya bahwa ada peluang untuk **mengubah pengendara kasual** menjadi anggota. Mereka mencatat bahwa pengendara kasual sudah mengetahui program Cyclistic dan telah memilih Cyclistic untuk kebutuhan mobilitas mereka\n",
    "Dengan demikian maka, perlu dilakukan analisis bagaimana prilaku pengguna biasa dan anggota tahunan dan mencari pengetahuan untuk meningkatkan jumlah anggota tahunan dari pengguna biasa."
   ]
  },
  {
   "attachments": {},
   "cell_type": "markdown",
   "metadata": {},
   "source": [
    "### Rumusan masalah\n",
    "\n",
    "1. Bagaimana anggota tahunan dan pengendara biasa mengggunakan sepeda secara berbeda?\n",
    "2. Mengapa pengendara biasa membeli keanggotaan tahunan Cyclistic?\n",
    "3. Bagaimana Cyclistic menggunakan media digital untuk mempengaruhi pengendara biasa untuk menjadi anggota?\n"
   ]
  },
  {
   "attachments": {},
   "cell_type": "markdown",
   "metadata": {},
   "source": [
    "### Sumber data\n",
    "\n",
    "Koleksi data didapatkan melalui website resmi milik Cyclistic:\n",
    "[Link data](https://divvy-tripdata.s3.amazonaws.com/index.html)\n"
   ]
  },
  {
   "attachments": {},
   "cell_type": "markdown",
   "metadata": {},
   "source": [
    "### Alat yang digunakan untuk analisis data\n",
    "\n",
    "- Microcsoft Excel\n",
    "- Python\n",
    "- SQL (MySQL Workbench)\n",
    "- Tableau"
   ]
  },
  {
   "attachments": {},
   "cell_type": "markdown",
   "metadata": {},
   "source": [
    "### Pemrosesan data\n",
    "\n",
    "- Dataset yang telah diunduh kemudian di ubah format file dari .csv  menjadi .xls  agar data bisa diolah dengan menggunakan Microsoft excel\n",
    "- Check kelengkapan data yang tidak boleh kosong seperti data ride_id dan dipastikan tidak ada nilai data yang duplikat dengan menggunakan fungsi remove duplicates.\n",
    "- Perhatikan juga kesalahan input data apakah ada data typo dan juga format data yang digunakan khususnya pada data waktu sehingga apabila tidak sesuai maka format data diubah menjadi benar.\n",
    "- Kemudian membuat kolom baru dengan nilai didapatkan dari mengurangi kolom end_at dan start_at dan dinamakan dengan ride_length. Serta ubah format data menjadi HH:MM:SS\n",
    "- Buat kolom bernama day_of_week, dan hitung hari dalam seminggu saat setiap perjalanan dimulai dengan menggunakan perintah “WEEKDAY” (misalnya, =WEEKDAY(C2,1)) di setiap file. Format sebagai General atau sebagai angka tanpa desimal, perhatikan bahwa 1 = Minggu dan 7 = Sabtu.\n"
   ]
  },
  {
   "attachments": {},
   "cell_type": "markdown",
   "metadata": {},
   "source": [
    "## Analsis\n",
    "\n",
    "Dikarenakan ukuran data yang terekam terlalu besar untuk dianalisis menggunakan Excel, maka digunakan SQL untuk proses analisis dan Sebagian menggunakan python.\n",
    "\n",
    "- Pertama buat database cyclist sebagi tempat penyimpanan data yang akan dianalisis.\n",
    "Dibuat 4 tabel q1, q2, q3, dan q4 dalam workbench MySQL yang mewakili setiap kuarter waktu dalam setahun. \n",
    "- Diinput dataset kedalam tabel yang ada di workbench MySQL dengan menggunakan fungsi LOAD DATA LOCAL INFILE. Data yang telah diinput siap untuk dianalisis dengan menggunakan berbagai fungsi yang ada di dalam MySQL.\n",
    "- Pertama mencari persentase pengguna biasa dan anggota tahunan cyclistic , didapatkan hasil pengguna biasa sebanyak 40,65% dan anggota sebanyak 59,35%.\n",
    "- Kemudian, mencari hari pengguna biasa maupun anggota tahunan menggunakan  pelayanan cyclistic terbanyak. Didapatkan hari tersibuk untuk pengguna biasa adalah hari minggu dan dilanjutkan dengan hari sabtu, sebaliknya hari terbanyak penggunaan sepeda oleh anggota adalah hari rabu dan hari selasa.\n",
    "\n",
    "- Selanjutnya dicari rata-rata durasi waktu pengguna biasa dan anggota. Didapatkan pengguna biasa rata-rata mengabiskan waktu sebnayak 31 menit dan 31 detik menggunakan sepeda cyclistic dan anggota menghabiskan waktu rata-rata sebanyak 13 menit dan 31 detik. Begitu juga dengan jarak tempuh rata-rata pengguna biasa dan anggota didapatkan hasil beturut-turut 2,44 KM dan 2,23 KM.\n",
    "\n",
    "- Dicari stasiun mana yang paling banyak merekam aktifitas pesepeda. Didapatkan hasil bahwa untuk pengguna biasa terbanyak terdapat di stasiun Streeter Dr & Grand Ave, dan disusul dengan Millennium Park, dan Lake Shore Dr & Monroe St. Sedangkan stasiun terbanyak yang merekam anggota tahunan cyclistic adalah Clark St & Elm St, disusul dengan Wells St & Concord Ln dan Kingsbury St & Kinzie St.\n",
    "\n",
    "- Kemudian dicari persentase jenis sepeda yang digunakan baik oleh pengguna biasa maupun oleh anggota. Didapatkan hasil jenis sepeda yang paling banyak digunakan adalah classic_bike  dengan persentase sampai 59,80%, disusul electric_bike sebanyak 34,92% dan terakhir docked_bik dengan 5,28%"
   ]
  },
  {
   "attachments": {},
   "cell_type": "markdown",
   "metadata": {},
   "source": [
    "### Visualisasi data\n",
    ">Note: Visualiasi data dilakukan dengan membagi data tahunan menjadi dua semester dikarenakan jumlah data cukup besar sehingga data visualisasi kurang maksimal jike memaksakan divisualkan secara bersamaan"
   ]
  },
  {
   "cell_type": "markdown",
   "metadata": {},
   "source": []
  }
 ],
 "metadata": {
  "kernelspec": {
   "display_name": "Python 3",
   "language": "python",
   "name": "python3"
  },
  "language_info": {
   "codemirror_mode": {
    "name": "ipython",
    "version": 3
   },
   "file_extension": ".py",
   "mimetype": "text/x-python",
   "name": "python",
   "nbconvert_exporter": "python",
   "pygments_lexer": "ipython3",
   "version": "3.8.3 (tags/v3.8.3:6f8c832, May 13 2020, 22:20:19) [MSC v.1925 32 bit (Intel)]"
  },
  "orig_nbformat": 4,
  "vscode": {
   "interpreter": {
    "hash": "60d6d69c4280d9cde78f4782fa7bec858c2d6ba9e58c8282068273aeab62439e"
   }
  }
 },
 "nbformat": 4,
 "nbformat_minor": 2
}
