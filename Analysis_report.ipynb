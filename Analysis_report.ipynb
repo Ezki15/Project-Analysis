{
 "cells": [
  {
   "cell_type": "markdown",
   "metadata": {},
   "source": [
    "# Analisis Pengguna Berbagi Sepeda Cyclistic \n",
    "\n",
    "**Data update : **2021**\n",
    "\n",
    "**Penulis : Wahyu Ezki Apriadi**"
   ]
  },
  {
   "cell_type": "markdown",
   "metadata": {},
   "source": [
    "### Latar belakang\n",
    "\n",
    "Perusahaan Cyclistic **merupakan** perusahaan yang mempunyai bisnis dalam program **berbagi sepeda** yang menampilkan lebih dari 5.800 sepeda dan lebih dari 600 stasiun di seluruh **Chicago**. Sepeda dapat diakses dari satu stasiun dan dikembalikan ke stasiun lainnya kapan pun di dalam sistem. \n",
    "Sampai saat ini, **strategi pemasaran** Cyclistic mengandalkan upaya untuk membangun kesadaran umum dan menarik segmen konsumen yang luas. Salah satu pendekatan yang membantu mewujudkan hal ini adalah fleksibilitas harga: tiket sekali jalan, tiket sehari penuh, dan keanggotaan tahunan. Pelanggan yang membeli tiket sekali jalan atau tiket sehari penuh disebut sebagai **pengendara kasual**. Pelanggan yang membeli keanggotaan tahunan adalah **anggota Cyclistic**.\n",
    "\n",
    "Analis keuangan Cyclistic telah menyimpulkan bahwa anggota tahunan jauh **lebih menguntungkan** dibandingkan pengendara biasa. Meskipun fleksibilitas harga membantu Cyclistic menarik lebih banyak pelanggan, dipercaya bahwa **memaksimalkan jumlah anggota tahunan** akan menjadi kunci pertumbuhan di masa depan. Daripada membuat kampanye pemasaran yang menargetkan pelanggan baru, mereka percaya bahwa ada peluang untuk **mengubah pengendara kasual** menjadi anggota. Mereka mencatat bahwa pengendara kasual sudah mengetahui program Cyclistic dan telah memilih Cyclistic untuk kebutuhan mobilitas mereka\n",
    "Dengan demikian maka, perlu dilakukan analisis bagaimana prilaku pengguna biasa dan anggota tahunan dan mencari pengetahuan untuk meningkatkan jumlah anggota tahunan dari pengguna biasa."
   ]
  },
  {
   "cell_type": "markdown",
   "metadata": {},
   "source": [
    "### Rumusan masalah\n",
    "\n",
    "1. Bagaimana anggota tahunan dan pengendara biasa mengggunakan sepeda secara berbeda?\n",
    "2. Mengapa pengendara biasa membeli keanggotaan tahunan Cyclistic?\n",
    "3. Bagaimana Cyclistic menggunakan media digital untuk mempengaruhi pengendara biasa untuk menjadi anggota?\n"
   ]
  },
  {
   "cell_type": "markdown",
   "metadata": {},
   "source": [
    "### Sumber data\n",
    "\n",
    "Koleksi data didapatkan melalui website resmi milik Cyclistic:\n",
    "[Link data](https://divvy-tripdata.s3.amazonaws.com/index.html)\n"
   ]
  },
  {
   "cell_type": "markdown",
   "metadata": {},
   "source": [
    "### Alat yang digunakan untuk analisis data\n",
    "\n",
    "- Microcsoft Excel\n",
    "- Python\n",
    "- SQL (MySQL Workbench)\n",
    "- Tableau"
   ]
  },
  {
   "cell_type": "markdown",
   "metadata": {},
   "source": [
    "### Pemrosesan data\n",
    "\n",
    "- Dataset yang telah diunduh kemudian di ubah format file dari .csv  menjadi .xls  agar data bisa diolah dengan menggunakan Microsoft excel\n",
    "- Check kelengkapan data yang tidak boleh kosong seperti data ride_id dan dipastikan tidak ada nilai data yang duplikat dengan menggunakan fungsi remove duplicates.\n",
    "- Perhatikan juga kesalahan input data apakah ada data typo dan juga format data yang digunakan khususnya pada data waktu sehingga apabila tidak sesuai maka format data diubah menjadi benar.\n",
    "- Kemudian membuat kolom baru dengan nilai didapatkan dari mengurangi kolom end_at dan start_at dan dinamakan dengan ride_length. Serta ubah format data menjadi HH:MM:SS\n",
    "- Buat kolom bernama day_of_week, dan hitung hari dalam seminggu saat setiap perjalanan dimulai dengan menggunakan perintah “WEEKDAY” (misalnya, =WEEKDAY(C2,1)) di setiap file. Format sebagai General atau sebagai angka tanpa desimal, perhatikan bahwa 1 = Minggu dan 7 = Sabtu.\n"
   ]
  },
  {
   "cell_type": "markdown",
   "metadata": {},
   "source": [
    "## Analsis\n",
    "\n",
    "Dikarenakan ukuran data yang terekam terlalu besar untuk dianalisis menggunakan Excel, maka digunakan SQL untuk proses analisis dan Sebagian menggunakan python.\n",
    "\n",
    "- Pertama buat database cyclist sebagi tempat penyimpanan data yang akan dianalisis.Dibuat 4 tabel q1, q2, q3, dan q4 dalam workbench MySQL yang mewakili setiap kuarter waktu dalam setahun. \n",
    "- Diinput dataset kedalam tabel yang ada di workbench MySQL dengan menggunakan fungsi LOAD DATA LOCAL INFILE. Data yang telah diinput siap untuk dianalisis dengan menggunakan berbagai fungsi yang ada di dalam MySQL.\n",
    "- Pertama mencari persentase pengguna biasa dan anggota tahunan cyclistic , didapatkan hasil pengguna biasa sebanyak 40,65% dan anggota sebanyak 59,35%.\n",
    "- Kemudian, mencari hari pengguna biasa maupun anggota tahunan menggunakan  pelayanan cyclistic terbanyak. Didapatkan hari tersibuk untuk pengguna biasa adalah hari minggu dan dilanjutkan dengan hari sabtu, sebaliknya hari terbanyak penggunaan sepeda oleh anggota adalah hari rabu dan hari selasa.\n",
    "\n",
    "- Selanjutnya dicari rata-rata durasi waktu pengguna biasa dan anggota. Didapatkan pengguna biasa rata-rata mengabiskan waktu sebnayak 31 menit dan 31 detik menggunakan sepeda cyclistic dan anggota menghabiskan waktu rata-rata sebanyak 13 menit dan 31 detik. Begitu juga dengan jarak tempuh rata-rata pengguna biasa dan anggota didapatkan hasil beturut-turut 2,44 KM dan 2,23 KM.\n",
    "\n",
    "- Dicari stasiun mana yang paling banyak merekam aktifitas pesepeda. Didapatkan hasil bahwa untuk pengguna biasa terbanyak terdapat di stasiun Streeter Dr & Grand Ave, dan disusul dengan Millennium Park, dan Lake Shore Dr & Monroe St. Sedangkan stasiun terbanyak yang merekam anggota tahunan cyclistic adalah Clark St & Elm St, disusul dengan Wells St & Concord Ln dan Kingsbury St & Kinzie St.\n",
    "\n",
    "- Kemudian dicari persentase jenis sepeda yang digunakan baik oleh pengguna biasa maupun oleh anggota. Didapatkan hasil jenis sepeda yang paling banyak digunakan adalah classic_bike  dengan persentase sampai 59,80%, disusul electric_bike sebanyak 34,92% dan terakhir docked_bik dengan 5,28%"
   ]
  },
  {
   "cell_type": "markdown",
   "metadata": {},
   "source": [
    "### Visualisasi data\n",
    ">Note: Visualiasi data dilakukan dengan membagi data tahunan menjadi dua semester dikarenakan jumlah data cukup besar sehingga data visualisasi kurang maksimal jike memaksakan divisualkan secara bersamaan"
   ]
  },
  {
   "attachments": {},
   "cell_type": "markdown",
   "metadata": {},
   "source": [
    "#### Visualisasi jumlah pengendara per bulan\n",
    "##### Semester Pertama (Jan-Jun)\n",
    "\n",
    "<img src=\"Dashboard3_first.png\" width=625 height=500 align=\"right\"/>\n",
    "<p style=\"text-align:left\">Rekaman data dari pengguna layanan cyclistic yang mencapai hampir enam juta data transaksi yang berasal dari setiap penggunaan layanan sepeda. Sebelumnya diketahui bahwa perbandingan pengguna biasa dan anggota tahunan adalah 40,65% dan 59,35%. Ini bisa dilihat dari grafik yang menampilkan angka pengguna biasa dan anggota setiap bulannya. Terlihat memang dari diagram batang pengendara per bulan, jumlah anggota tahunan sedikit lebih banyak dari pada pengguna biasa. Kemudian dari bulan januari sampai bulan juni, terlihat peningkatan transaksi atau penggunaan layanan secara signifikan yang walaupun di bulan februari sempat mengalami penurunan. Ini dapat diasumsikan bahwa cuaca yang lebih hangat mempengaruhi peningkatan jumlah penggunaan sepeda cyclistic.</p>"
   ]
  },
  {
   "attachments": {},
   "cell_type": "markdown",
   "metadata": {},
   "source": [
    "##### Semester Kedua (Jul-Des)\n",
    "\n",
    "<img src=\"Dashboard1_second.png\" width=625 height=500 align=\"right\"/>\n",
    "<p style=\"text-align:left\">Selanjutnya, dengan diagram yang sama yaitu diagram batang yang menampilkan jumlah data transasksi pengguna layanan cyclistic dan juga diagram garis yang menampilkan perbuahan jumlah tansaksi selama periode waktu dari bulan juli sampai bulan desember. Jika diperhatikan mulai bulan juni sampai bulan agustus, transaksi pengguna biasa lebih banyak dari pada transaksi anggota tahunan. Ini memperlihatkan bahwa di musim panas pengguna biasa mengalami peningkatan dan menjadi titik puncak pengguna biasa dalam menggunakan layanan sepeda cyclistic. Begitu sebaliknya di musim dingin penggunaan layanan sepeda menjadi titik terendah.</p>"
   ]
  },
  {
   "cell_type": "markdown",
   "metadata": {},
   "source": [
    "#### Visualisasi jumlah pengendara per hari\n",
    "\n",
    "###### Semeseter pertama (Jan-Jun)\n",
    "\n",
    "<img src=\"Dashboard1_first.png\" width=625 height=500 align=\"right\"/>\n",
    "<p style=\"text-align:left\">Visualisasi berikutnya adalah jumlah transaksi perhari. Sebelumnya telah diketahui bahwa hari sabtu dan hari minggu merupakan hari yang paling banyak terjadi transaksi pelayanan sepeda oleh pengguna biasa. \\sedangkan untuk anggota tahunan tercatat bahwa hari rabu dan selasa merupakan hari paling banyak terjadinya transaksi. Ini diperjelas dengan grafik yang ditampilkan disamping yang menunjukan adanya peningkatan transaksi yang dimulai hari jumat dan puncaknya pada hari sabtu oleh pengguna biasa. Disisi yang lain rekaman data anggota tahunan cendernung tidak mengalami kenaikan yang signifikan, namun tetap dapat dilihat bahwa hari yang paling banyak terjadi transaksi oleh anggota tahunan adalah hari rabu dan selasa.\n",
    "</p>"
   ]
  },
  {
   "attachments": {},
   "cell_type": "markdown",
   "metadata": {},
   "source": [
    "###### Semeseter kedua (Jul-Des)\n",
    "\n",
    "<img src=\"Dashboard2_second.png\" width=625 height=500 align=\"right\"/>\n",
    "<p style=\"text-align:left\">Selanjutnya untuk semester yang kedua, terlihat tidak ada yang terlalu berbeda dengan semester pertama, bahkan bila data digabung dan divisualisasi menjadi satu data yang utuh, meke hasilnya pasti akan sama yaitu hari tersibuk untuk pengguna biasa adalah hari sabtu dan minggu dan untuk anggota tahunan adalah hari rabu dan selasa. \n",
    "Dari sini dapat diamati bahwa kemungkinan alasan pengguna sepeda menjadi anggota tahunan untuk keperluan sehari-hari. Sedangkan pengguna biasa cendernung menggunakan layanan ini pada hari libur weekend yang dimana pengguna memiliki waktu luang yang dibuktikan sebelumnya bahwa pengguna biasa menghasbiskan lebih banyak waktu dan jarak tempuh yang lebih jauh daripada anggota tahunan.\n",
    "</p>"
   ]
  },
  {
   "cell_type": "markdown",
   "metadata": {},
   "source": [
    "#### Stasiun pengguna terbanyak\n",
    "\n",
    "###### Semeseter pertama (Jan-Jun)\n",
    "\n",
    "<img src=\"Dashboard2_first.png\" width=625 height=500 align=\"right\"/>\n",
    "<p style=\"text-align:left\">Perusahaan Cyclistic menyediakan kurang lebih 690 stasiun yang digunakan untuk memonitor sepeda yang digunakan dan mencatat penggunaan sepeda setiap harinya. Diantara stasiun-stasiun itu, terdapat beberapa stasiun yang mencatat penggunaan sepeda terbanyak oleh pengguna biasa. \n",
    "Dari analisis yang telah dilakukan dengan memeringkatkan stasiun mulai dan stasiun berhenti yang dihitung dari jumlah transaksi yang ada di stasiun tersebut. Pada semester pertama ini terlihat Street Dr & Grand Ave adalah stasiun yang mencatat transaksi terbanyak. Dilanjutkan dengan beberapa stasiun yang cukup banyak merekam transaksi penggunaan sepeda cyclistic.\n",
    "</p>"
   ]
  },
  {
   "cell_type": "markdown",
   "metadata": {},
   "source": [
    "###### Semeseter kedua (Jul-Des)\n",
    "\n",
    "<img src=\"Dashboard3_second.png\" width=625 height=500 align=\"right\"/>\n",
    "<p style=\"text-align:left\">Selanjutnya pada semester kedua ini sama seperti sebelumnya yaitu menampilkan stasisun yang merekam transaksi penggunaan sepeda oleh pengguna biasa. Street Dr & Grand Ave masih menjadi yang tertinggi dalam mencatat transaksi penggunaan sepeda. Ini sebelumnya sudah diberitahukan yaitu tiga stasiun tertinggi yang merekam transaski penggunaan sepeda cyclistic. \n",
    "Perlu diketahui bahwa alasan hanya menampilkan stasiun yang banyak merekam pengguna biasa adalah untuk mengetahui tempat paling potensial untuk membuat promosi agar pengguna biasa dapat diajak menjadi anggota tahunan.\n",
    "</p>"
   ]
  },
  {
   "cell_type": "markdown",
   "metadata": {},
   "source": [
    "#### Jenis sepeda pilihan terbanyak per bulan\n",
    "\n",
    "###### Semeseter pertama (Jan-Jun)\n",
    "\n",
    "<img src=\"Sheet7_first.png\" width=625 height=350 align=\"right\"/>\n",
    "<p style=\"text-align:left\">Visualisasi terakhir adalah membandingkan jumlah penggunaan sepeda dengan jenis sepeda yang dipakai  (pengguna biasa). Secara garis besar classic_bike menjadi pilihan terbanyak  Diikuti dengan electric_bike dan docked_bike menjadi pilihan pengguna. Di semester pertama ini minat pengguna pada jenis classic_bike sangat digemari, sehingga bisa dimanfaatkan dengan menambah atau lebih menfasilitasi classic_bike menjadi lebih diperhatikan. \n",
    "</p>"
   ]
  },
  {
   "attachments": {},
   "cell_type": "markdown",
   "metadata": {},
   "source": [
    "###### Semeseter kedua (Jul-Des)\n",
    "\n",
    "<img src=\"Sheet7_second.png\" width=625 height=350 align=\"right\"/>\n",
    "<p style=\"text-align:left\">Sama seperti di semester pertama, dominasi pengguna masih banyak memilih classic_bike sebagai pilihan jenis sepeda yang mereka gunakan. Namun jika diperhatikan, dimulai dari bulan oktober sampai desember, classic_bike bukan lagi sebagi pilihan terbanyak jenis sepeda yang dipilih oleh pengguna melainkan sepeda jenis electic_bike. Ini mengisyaratkan bahwa di akhir tahun minat pada sepeda jenis electric_bike mengalami kenaikan dalam hal persentase pilihan jenis sepeda yang digunakan per bulan. Hal ini perlu diperhatikan untuk memberikan dorongan lagi pada electric_bike. \n",
    "</p>"
   ]
  },
  {
   "attachments": {},
   "cell_type": "markdown",
   "metadata": {},
   "source": [
    "### Kesimpulan\n",
    "\n",
    "Dari data dan hasil analisis yang telah dilakukan, beberapa kesimpulan yang dapat diambil.\n",
    "1. Pengguna biasa lebih banyak menggunakan sepeda pada hari weekend, sedangkan anggota tahunan cenderung menggunakan sepeda pada hari-hari kerja. Diketahui juga bahwa pengguna biasa lebih banyak menghabiskan waktunya dengan sepeda dibandingkan dengan anggota tahunan.\n",
    "2. Memaksimalkan  pengiklanan bisa menambah kemungkinan pengguna biasa membeli keanggotaan dengan memperhatikan pengetahuan yang telah didapatkan dan kampanye baiknya dilakukan pada bulan juni sampai bulan agustus.\n",
    "3. Media digital bisa digunakan dengan memberikan penawaran yang menarik pada periode waktu tertentu, seperti memprioritaskan hari sabtu dan minggu untuk pengiklanan  secara online."
   ]
  },
  {
   "attachments": {},
   "cell_type": "markdown",
   "metadata": {},
   "source": [
    "### Rekomendasi\n",
    "- Direkomendasikan untuk menggunakan pengiklanan outdoor sebagai bagian dari kampanye di beberapa stasiun khususnya stasiun yang banyak melakukan transaksi seperti stasiun Street Dr & Grand Ave, Millennium Park, dan Lake Shore Dr & Monroe St.\n",
    "- Direkomendasikan juga untuk memberikan penawaran special yang berhubungan dengan penggunaan electric_bike yang sudah mengalami pertumbuhan pada bulan-bulan akhir."
   ]
  }
 ],
 "metadata": {
  "kernelspec": {
   "display_name": "Python 3 (ipykernel)",
   "language": "python",
   "name": "python3"
  },
  "language_info": {
   "codemirror_mode": {
    "name": "ipython",
    "version": 3
   },
   "file_extension": ".py",
   "mimetype": "text/x-python",
   "name": "python",
   "nbconvert_exporter": "python",
   "pygments_lexer": "ipython3",
   "version": "3.9.13"
  },
  "vscode": {
   "interpreter": {
    "hash": "60d6d69c4280d9cde78f4782fa7bec858c2d6ba9e58c8282068273aeab62439e"
   }
  }
 },
 "nbformat": 4,
 "nbformat_minor": 2
}
